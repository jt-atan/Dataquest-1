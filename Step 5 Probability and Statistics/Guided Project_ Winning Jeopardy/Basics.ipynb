{
 "cells": [
  {
   "cell_type": "code",
   "execution_count": 24,
   "metadata": {
    "collapsed": false,
    "scrolled": true
   },
   "outputs": [
    {
     "data": {
      "text/html": [
       "<div>\n",
       "<style scoped>\n",
       "    .dataframe tbody tr th:only-of-type {\n",
       "        vertical-align: middle;\n",
       "    }\n",
       "\n",
       "    .dataframe tbody tr th {\n",
       "        vertical-align: top;\n",
       "    }\n",
       "\n",
       "    .dataframe thead th {\n",
       "        text-align: right;\n",
       "    }\n",
       "</style>\n",
       "<table border=\"1\" class=\"dataframe\">\n",
       "  <thead>\n",
       "    <tr style=\"text-align: right;\">\n",
       "      <th></th>\n",
       "      <th>Show Number</th>\n",
       "      <th>Air Date</th>\n",
       "      <th>Round</th>\n",
       "      <th>Category</th>\n",
       "      <th>Value</th>\n",
       "      <th>Question</th>\n",
       "      <th>Answer</th>\n",
       "    </tr>\n",
       "  </thead>\n",
       "  <tbody>\n",
       "    <tr>\n",
       "      <th>0</th>\n",
       "      <td>4680</td>\n",
       "      <td>2004-12-31</td>\n",
       "      <td>Jeopardy!</td>\n",
       "      <td>HISTORY</td>\n",
       "      <td>$200</td>\n",
       "      <td>For the last 8 years of his life, Galileo was ...</td>\n",
       "      <td>Copernicus</td>\n",
       "    </tr>\n",
       "    <tr>\n",
       "      <th>1</th>\n",
       "      <td>4680</td>\n",
       "      <td>2004-12-31</td>\n",
       "      <td>Jeopardy!</td>\n",
       "      <td>ESPN's TOP 10 ALL-TIME ATHLETES</td>\n",
       "      <td>$200</td>\n",
       "      <td>No. 2: 1912 Olympian; football star at Carlisl...</td>\n",
       "      <td>Jim Thorpe</td>\n",
       "    </tr>\n",
       "    <tr>\n",
       "      <th>2</th>\n",
       "      <td>4680</td>\n",
       "      <td>2004-12-31</td>\n",
       "      <td>Jeopardy!</td>\n",
       "      <td>EVERYBODY TALKS ABOUT IT...</td>\n",
       "      <td>$200</td>\n",
       "      <td>The city of Yuma in this state has a record av...</td>\n",
       "      <td>Arizona</td>\n",
       "    </tr>\n",
       "    <tr>\n",
       "      <th>3</th>\n",
       "      <td>4680</td>\n",
       "      <td>2004-12-31</td>\n",
       "      <td>Jeopardy!</td>\n",
       "      <td>THE COMPANY LINE</td>\n",
       "      <td>$200</td>\n",
       "      <td>In 1963, live on \"The Art Linkletter Show\", th...</td>\n",
       "      <td>McDonald's</td>\n",
       "    </tr>\n",
       "    <tr>\n",
       "      <th>4</th>\n",
       "      <td>4680</td>\n",
       "      <td>2004-12-31</td>\n",
       "      <td>Jeopardy!</td>\n",
       "      <td>EPITAPHS &amp; TRIBUTES</td>\n",
       "      <td>$200</td>\n",
       "      <td>Signer of the Dec. of Indep., framer of the Co...</td>\n",
       "      <td>John Adams</td>\n",
       "    </tr>\n",
       "  </tbody>\n",
       "</table>\n",
       "</div>"
      ],
      "text/plain": [
       "   Show Number    Air Date      Round                         Category  Value  \\\n",
       "0         4680  2004-12-31  Jeopardy!                          HISTORY   $200   \n",
       "1         4680  2004-12-31  Jeopardy!  ESPN's TOP 10 ALL-TIME ATHLETES   $200   \n",
       "2         4680  2004-12-31  Jeopardy!      EVERYBODY TALKS ABOUT IT...   $200   \n",
       "3         4680  2004-12-31  Jeopardy!                 THE COMPANY LINE   $200   \n",
       "4         4680  2004-12-31  Jeopardy!              EPITAPHS & TRIBUTES   $200   \n",
       "\n",
       "                                            Question      Answer  \n",
       "0  For the last 8 years of his life, Galileo was ...  Copernicus  \n",
       "1  No. 2: 1912 Olympian; football star at Carlisl...  Jim Thorpe  \n",
       "2  The city of Yuma in this state has a record av...     Arizona  \n",
       "3  In 1963, live on \"The Art Linkletter Show\", th...  McDonald's  \n",
       "4  Signer of the Dec. of Indep., framer of the Co...  John Adams  "
      ]
     },
     "execution_count": 24,
     "metadata": {},
     "output_type": "execute_result"
    }
   ],
   "source": [
    "import pandas as pd\n",
    "jeopardy=pd.read_csv('jeopardy.csv')\n",
    "jeopardy.head()"
   ]
  },
  {
   "cell_type": "code",
   "execution_count": 3,
   "metadata": {
    "collapsed": false
   },
   "outputs": [
    {
     "data": {
      "text/plain": [
       "Index(['Show Number', ' Air Date', ' Round', ' Category', ' Value',\n",
       "       ' Question', ' Answer'],\n",
       "      dtype='object')"
      ]
     },
     "execution_count": 3,
     "metadata": {},
     "output_type": "execute_result"
    }
   ],
   "source": [
    "jeopardy.columns"
   ]
  },
  {
   "cell_type": "code",
   "execution_count": 25,
   "metadata": {
    "collapsed": true
   },
   "outputs": [],
   "source": [
    "jeopardy.columns=['Show Number', 'Air Date', 'Round', 'Category', 'Value',\n",
    "       'Question', 'Answer']"
   ]
  },
  {
   "cell_type": "code",
   "execution_count": 26,
   "metadata": {
    "collapsed": true
   },
   "outputs": [],
   "source": [
    "import re\n",
    "def normalise(string):\n",
    "    string=string.lower()\n",
    "    string = re.sub(\"[^A-Za-z0-9\\s]\", \"\", string)\n",
    "    return string\n",
    "\n",
    "jeopardy['clean_question']=jeopardy['Question'].apply(normalise)\n",
    "jeopardy['clean_answer']=jeopardy['Answer'].apply(normalise)\n",
    "\n",
    "\n",
    "    "
   ]
  },
  {
   "cell_type": "code",
   "execution_count": 6,
   "metadata": {
    "collapsed": false
   },
   "outputs": [
    {
     "data": {
      "text/plain": [
       "0        for the last 8 years of his life galileo was u...\n",
       "1        no 2 1912 olympian football star at carlisle i...\n",
       "2        the city of yuma in this state has a record av...\n",
       "3        in 1963 live on the art linkletter show this c...\n",
       "4        signer of the dec of indep framer of the const...\n",
       "5        in the title of an aesop fable this insect sha...\n",
       "6        built in 312 bc to link rome  the south of ita...\n",
       "7        no 8 30 steals for the birmingham barons 2306 ...\n",
       "8        in the winter of 197172 a record 1122 inches o...\n",
       "9        this housewares store was named for the packag...\n",
       "10                                          and away we go\n",
       "11       cows regurgitate this from the first stomach t...\n",
       "12       in 1000 rajaraja i of the cholas battled to ta...\n",
       "13       no 1 lettered in hoops football  lacrosse at s...\n",
       "14       on june 28 1994 the natl weather service began...\n",
       "15       this companys accutron watch introduced in 196...\n",
       "16       outlaw murdered by a traitor and a coward whos...\n",
       "17       a small demon or a mischievous child who might...\n",
       "18       karl led the first of these marxist organizati...\n",
       "19       no 10 fblb for columbia u in the 1920s mvp for...\n",
       "20       africas lowest temperature was 11 degrees belo...\n",
       "21       edward teller  this man partnered in 1898 to s...\n",
       "22       1939 oscar winner you are a credit to your cra...\n",
       "23       in geologic time one of these shorter than an ...\n",
       "24       this asian political party was founded in 1885...\n",
       "25       no 5 only center to lead the nba in assists tr...\n",
       "26       the kirschner brothers don  bill named this sk...\n",
       "27       revolutionary war hero his spirit is in vermon...\n",
       "28       a single layer of paper or to perform ones cra...\n",
       "29       a hrefhttpwwwjarchivecommedia20041231dj23mp3be...\n",
       "                               ...                        \n",
       "19969    in 1960 the last of these locomotives was reti...\n",
       "19970    kate if i be waspish best beware my sting his ...\n",
       "19971    this private college in northern california bo...\n",
       "19972    she voiced princess pea in the tale of despere...\n",
       "19973    its the name of the longawaited new white hous...\n",
       "19974    langdon in angels  demons is looking for a hre...\n",
       "19975    in the 1600s most of new york state was occupi...\n",
       "19976                marinas dad need a hint he rules tyre\n",
       "19977    presidential kids are welcome at this new orle...\n",
       "19978    she didnt vamp it up  did a bella job as em in...\n",
       "19979    third syllable intoned by the giant who smells...\n",
       "19980    much of angels  demons takes place at one of a...\n",
       "19981    in 1899 secretary of state john hay proclaimed...\n",
       "19982    fruity surname of peter in a midsummer nights ...\n",
       "19983    quincy jones kevin eubanks  branford marsalis ...\n",
       "19984    in 2009 she returned to being fast  furious as...\n",
       "19985    the book of genesis says this ancient city of ...\n",
       "19986    habakkuk and the angel is one of a series of a...\n",
       "19987    in medieval england it meant the smallest unit...\n",
       "19988    this texas city is the largest in the us to ha...\n",
       "19989                                         the crickets\n",
       "19990    in the 990s this son of erik the red brought c...\n",
       "19991    concerning a failed windows 98 demonstration h...\n",
       "19992    this llama product is used to make hats blanke...\n",
       "19993    in 1967 this company introduced its chocolatec...\n",
       "19994    of 8 12 or 18 the number of us states that tou...\n",
       "19995                             the new power generation\n",
       "19996    in 1589 he was appointed professor of mathemat...\n",
       "19997    before the grand jury she said im really sorry...\n",
       "19998    llamas are the heftiest south american members...\n",
       "Name: clean_question, Length: 19999, dtype: object"
      ]
     },
     "execution_count": 6,
     "metadata": {},
     "output_type": "execute_result"
    }
   ],
   "source": [
    "jeopardy['clean_question']"
   ]
  },
  {
   "cell_type": "code",
   "execution_count": 27,
   "metadata": {
    "collapsed": true
   },
   "outputs": [],
   "source": [
    "def normalise_int(val):\n",
    "    val = re.sub(\"[^A-Za-z0-9\\s]\", \"\", val)\n",
    "    try:\n",
    "        val=int(val)\n",
    "    except Exception:\n",
    "        val=0\n",
    "    return val\n",
    "\n",
    "jeopardy['clean_value']=jeopardy['Value'].apply(normalise_int)"
   ]
  },
  {
   "cell_type": "code",
   "execution_count": 8,
   "metadata": {
    "collapsed": false,
    "scrolled": true
   },
   "outputs": [
    {
     "data": {
      "text/plain": [
       "0         200\n",
       "1         200\n",
       "2         200\n",
       "3         200\n",
       "4         200\n",
       "5         200\n",
       "6         400\n",
       "7         400\n",
       "8         400\n",
       "9         400\n",
       "10        400\n",
       "11        400\n",
       "12        600\n",
       "13        600\n",
       "14        600\n",
       "15        600\n",
       "16        600\n",
       "17        600\n",
       "18        800\n",
       "19        800\n",
       "20        800\n",
       "21        800\n",
       "22       2000\n",
       "23        800\n",
       "24       1000\n",
       "25       1000\n",
       "26       1000\n",
       "27       1000\n",
       "28       1000\n",
       "29        400\n",
       "         ... \n",
       "19969    1200\n",
       "19970    1200\n",
       "19971    1500\n",
       "19972    1200\n",
       "19973    1200\n",
       "19974    1200\n",
       "19975    1600\n",
       "19976    1600\n",
       "19977    1600\n",
       "19978    1600\n",
       "19979    1600\n",
       "19980    1600\n",
       "19981    1200\n",
       "19982    2000\n",
       "19983    2000\n",
       "19984    2000\n",
       "19985    2000\n",
       "19986    2000\n",
       "19987       0\n",
       "19988     100\n",
       "19989     100\n",
       "19990     100\n",
       "19991     100\n",
       "19992     100\n",
       "19993     100\n",
       "19994     200\n",
       "19995     200\n",
       "19996     200\n",
       "19997     200\n",
       "19998     200\n",
       "Name: clean_value, Length: 19999, dtype: int64"
      ]
     },
     "execution_count": 8,
     "metadata": {},
     "output_type": "execute_result"
    }
   ],
   "source": [
    "jeopardy['clean_value']"
   ]
  },
  {
   "cell_type": "code",
   "execution_count": 28,
   "metadata": {
    "collapsed": false
   },
   "outputs": [],
   "source": [
    "jeopardy[\"Air Date\"] = pd.to_datetime(jeopardy[\"Air Date\"])\n"
   ]
  },
  {
   "cell_type": "code",
   "execution_count": 29,
   "metadata": {
    "collapsed": false
   },
   "outputs": [],
   "source": [
    "def answerin_question(row):\n",
    "    split_answer=row['clean_answer'].split(' ')\n",
    "    split_question = row[\"clean_question\"].split(\" \")\n",
    "\n",
    "    match_count=0\n",
    "    if 'the' in split_answer:\n",
    "        split_answer.remove('the')\n",
    "    if len(split_answer)==0:\n",
    "        return 0\n",
    "    for each in split_answer:\n",
    "        if each in split_question:\n",
    "            match_count+=1\n",
    "    return match_count/len(split_answer)\n",
    "\n",
    "jeopardy['answer_in_question']=jeopardy.apply(answerin_question,axis=1)"
   ]
  },
  {
   "cell_type": "code",
   "execution_count": 14,
   "metadata": {
    "collapsed": false
   },
   "outputs": [
    {
     "data": {
      "text/plain": [
       "0.06049325706933587"
      ]
     },
     "execution_count": 14,
     "metadata": {},
     "output_type": "execute_result"
    }
   ],
   "source": [
    "jeopardy['answer_in_question'].mean()"
   ]
  },
  {
   "cell_type": "markdown",
   "metadata": {},
   "source": [
    "Answer appears in question only 6% of the times."
   ]
  },
  {
   "cell_type": "code",
   "execution_count": 30,
   "metadata": {
    "collapsed": false
   },
   "outputs": [
    {
     "data": {
      "text/plain": [
       "0.6908737315671962"
      ]
     },
     "execution_count": 30,
     "metadata": {},
     "output_type": "execute_result"
    }
   ],
   "source": [
    "question_overlap=[]\n",
    "terms_used=set()\n",
    "for i, row in jeopardy.iterrows():\n",
    "    split_question=row[\"clean_question\"].split(\" \")\n",
    "    split_question = [q for q in split_question if len(q) > 5]\n",
    "    match_count=0\n",
    "    for each in split_question:\n",
    "        if each in terms_used:\n",
    "            match_count+=1\n",
    "    for each in split_question:\n",
    "        terms_used.add(each)\n",
    "    if len(split_question)>0:\n",
    "        match_count=match_count/len(split_question)\n",
    "    question_overlap.append(match_count)\n",
    "    \n",
    "jeopardy['question_overlap']=question_overlap\n",
    "jeopardy[\"question_overlap\"].mean()\n"
   ]
  },
  {
   "cell_type": "markdown",
   "metadata": {},
   "source": [
    "There is 69% overlap between old questions an new ones."
   ]
  },
  {
   "cell_type": "code",
   "execution_count": 31,
   "metadata": {
    "collapsed": true
   },
   "outputs": [],
   "source": [
    "def val_count(row):\n",
    "    value=0\n",
    "    if row['clean_value']>800:\n",
    "        value=1\n",
    "    \n",
    "    return value\n",
    "jeopardy['high_value']=jeopardy.apply(val_count,axis=1)\n",
    "\n"
   ]
  },
  {
   "cell_type": "code",
   "execution_count": 32,
   "metadata": {
    "collapsed": true
   },
   "outputs": [],
   "source": [
    "def low_high(word):\n",
    "    low_count=0\n",
    "    high_count=0\n",
    "    for i, row in jeopardy.iterrows():\n",
    "        q=row['clean_question'].split(\" \")\n",
    "        if word in q:\n",
    "            if row[\"high_value\"]==1:\n",
    "                high_count+=1\n",
    "            else:\n",
    "                low_count+=1\n",
    "    return high_count,low_count\n",
    "\n",
    "observed_expected=[]\n",
    "comparison_terms=list(terms_used)[:5]\n",
    "\n",
    "    "
   ]
  },
  {
   "cell_type": "code",
   "execution_count": 33,
   "metadata": {
    "collapsed": true
   },
   "outputs": [],
   "source": [
    "for each in comparison_terms:\n",
    "    observed_expected.append(low_high(each))"
   ]
  },
  {
   "cell_type": "code",
   "execution_count": 34,
   "metadata": {
    "collapsed": false
   },
   "outputs": [
    {
     "data": {
      "text/plain": [
       "[(0, 1), (2, 7), (0, 1), (0, 1), (0, 2)]"
      ]
     },
     "execution_count": 34,
     "metadata": {},
     "output_type": "execute_result"
    }
   ],
   "source": [
    "observed_expected"
   ]
  },
  {
   "cell_type": "code",
   "execution_count": 37,
   "metadata": {
    "collapsed": false
   },
   "outputs": [
    {
     "data": {
      "text/plain": [
       "5734"
      ]
     },
     "execution_count": 37,
     "metadata": {},
     "output_type": "execute_result"
    }
   ],
   "source": [
    "high_value_count=jeopardy[jeopardy['high_value']==1].shape[0]\n",
    "high_value_count"
   ]
  },
  {
   "cell_type": "code",
   "execution_count": 40,
   "metadata": {
    "collapsed": false
   },
   "outputs": [],
   "source": [
    "low_value_count=jeopardy[jeopardy['high_value']==0].shape[0]"
   ]
  },
  {
   "cell_type": "code",
   "execution_count": 44,
   "metadata": {
    "collapsed": false
   },
   "outputs": [
    {
     "ename": "NameError",
     "evalue": "name 'high_value_exp' is not defined",
     "output_type": "error",
     "traceback": [
      "\u001b[1;31m\u001b[0m",
      "\u001b[1;31mNameError\u001b[0mTraceback (most recent call last)",
      "\u001b[1;32m<ipython-input-44-aa452e50fc32>\u001b[0m in \u001b[0;36m<module>\u001b[1;34m()\u001b[0m\n\u001b[0;32m      8\u001b[0m     \u001b[0mexp_low\u001b[0m\u001b[1;33m=\u001b[0m\u001b[0mtotal_prop\u001b[0m\u001b[1;33m*\u001b[0m\u001b[0mlow_value_count\u001b[0m\u001b[1;33m\u001b[0m\u001b[0m\n\u001b[0;32m      9\u001b[0m     \u001b[0mobserved\u001b[0m \u001b[1;33m=\u001b[0m \u001b[0mnp\u001b[0m\u001b[1;33m.\u001b[0m\u001b[0marray\u001b[0m\u001b[1;33m(\u001b[0m\u001b[1;33m[\u001b[0m\u001b[0meach\u001b[0m\u001b[1;33m[\u001b[0m\u001b[1;36m0\u001b[0m\u001b[1;33m]\u001b[0m\u001b[1;33m,\u001b[0m \u001b[0meach\u001b[0m\u001b[1;33m[\u001b[0m\u001b[1;36m1\u001b[0m\u001b[1;33m]\u001b[0m\u001b[1;33m]\u001b[0m\u001b[1;33m)\u001b[0m\u001b[1;33m\u001b[0m\u001b[0m\n\u001b[1;32m---> 10\u001b[1;33m     \u001b[0mexpected\u001b[0m \u001b[1;33m=\u001b[0m \u001b[0mnp\u001b[0m\u001b[1;33m.\u001b[0m\u001b[0marray\u001b[0m\u001b[1;33m(\u001b[0m\u001b[1;33m[\u001b[0m\u001b[0mhigh_value_exp\u001b[0m\u001b[1;33m,\u001b[0m \u001b[0mlow_value_exp\u001b[0m\u001b[1;33m]\u001b[0m\u001b[1;33m)\u001b[0m\u001b[1;33m\u001b[0m\u001b[0m\n\u001b[0m\u001b[0;32m     11\u001b[0m     \u001b[0mchi_squared\u001b[0m\u001b[1;33m.\u001b[0m\u001b[0mappend\u001b[0m\u001b[1;33m(\u001b[0m\u001b[0mchisquare\u001b[0m\u001b[1;33m(\u001b[0m\u001b[0mobserved\u001b[0m\u001b[1;33m,\u001b[0m \u001b[0mexpected\u001b[0m\u001b[1;33m)\u001b[0m\u001b[1;33m)\u001b[0m\u001b[1;33m\u001b[0m\u001b[0m\n\u001b[0;32m     12\u001b[0m \u001b[1;33m\u001b[0m\u001b[0m\n",
      "\u001b[1;31mNameError\u001b[0m: name 'high_value_exp' is not defined"
     ]
    }
   ],
   "source": [
    "from scipy.stats import chisquare\n",
    "import numpy as np\n",
    "chi_squared=[]\n",
    "for each in observed_expected:\n",
    "    total=sum(each)\n",
    "    total_prop=total/jeopardy.shape[0]\n",
    "    exp_high=total_prop*high_value_count\n",
    "    exp_low=total_prop*low_value_count\n",
    "    observed = np.array([each[0], each[1]])\n",
    "    expected = np.array([exp_high, low_value_exp])\n",
    "    chi_squared.append(chisquare(observed, expected))\n",
    "    "
   ]
  },
  {
   "cell_type": "code",
   "execution_count": null,
   "metadata": {
    "collapsed": true
   },
   "outputs": [],
   "source": []
  }
 ],
 "metadata": {
  "kernelspec": {
   "display_name": "Python 3",
   "language": "python",
   "name": "python3"
  },
  "language_info": {
   "codemirror_mode": {
    "name": "ipython",
    "version": 3
   },
   "file_extension": ".py",
   "mimetype": "text/x-python",
   "name": "python",
   "nbconvert_exporter": "python",
   "pygments_lexer": "ipython3",
   "version": "3.4.3"
  }
 },
 "nbformat": 4,
 "nbformat_minor": 0
}
