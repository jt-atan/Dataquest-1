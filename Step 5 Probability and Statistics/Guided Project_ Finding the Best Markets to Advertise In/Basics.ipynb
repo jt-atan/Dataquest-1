{
 "cells": [
  {
   "cell_type": "markdown",
   "metadata": {},
   "source": [
    "To find the best markets to advertise in."
   ]
  },
  {
   "cell_type": "code",
   "execution_count": 1,
   "metadata": {
    "collapsed": false
   },
   "outputs": [
    {
     "data": {
      "text/plain": [
       "(2882, 136)"
      ]
     },
     "execution_count": 1,
     "metadata": {},
     "output_type": "execute_result"
    }
   ],
   "source": [
    "import pandas as pd\n",
    "survey=pd.read_csv('2017-fCC-New-Coders-Survey-Data.csv')\n",
    "survey.shape"
   ]
  },
  {
   "cell_type": "code",
   "execution_count": 2,
   "metadata": {
    "collapsed": false
   },
   "outputs": [
    {
     "data": {
      "text/plain": [
       "Index(['Age', 'AttendedBootcamp', 'BootcampFinish', 'BootcampLoanYesNo',\n",
       "       'BootcampName', 'BootcampRecommend', 'ChildrenNumber', 'CityPopulation',\n",
       "       'CodeEventConferences', 'CodeEventDjangoGirls',\n",
       "       ...\n",
       "       'YouTubeFCC', 'YouTubeFunFunFunction', 'YouTubeGoogleDev',\n",
       "       'YouTubeLearnCode', 'YouTubeLevelUpTuts', 'YouTubeMIT',\n",
       "       'YouTubeMozillaHacks', 'YouTubeOther', 'YouTubeSimplilearn',\n",
       "       'YouTubeTheNewBoston'],\n",
       "      dtype='object', length=136)"
      ]
     },
     "execution_count": 2,
     "metadata": {},
     "output_type": "execute_result"
    }
   ],
   "source": [
    "survey.columns"
   ]
  },
  {
   "cell_type": "code",
   "execution_count": 3,
   "metadata": {
    "collapsed": false
   },
   "outputs": [
    {
     "data": {
      "text/plain": [
       "Full-Stack Web Developer                                                                                                                                                                                  12.015810\n",
       "  Front-End Web Developer                                                                                                                                                                                  4.426877\n",
       "  Data Scientist                                                                                                                                                                                           2.371542\n",
       "  Mobile Developer                                                                                                                                                                                         1.660079\n",
       "Back-End Web Developer                                                                                                                                                                                     1.581028\n",
       "Full-Stack Web Developer,   Front-End Web Developer                                                                                                                                                        1.264822\n",
       "  Product Manager                                                                                                                                                                                          1.106719\n",
       "  Front-End Web Developer, Full-Stack Web Developer                                                                                                                                                        1.106719\n",
       "Data Engineer                                                                                                                                                                                              1.027668\n",
       "Information Security                                                                                                                                                                                       0.948617\n",
       "  Front-End Web Developer, Back-End Web Developer, Full-Stack Web Developer                                                                                                                                0.948617\n",
       "Back-End Web Developer, Full-Stack Web Developer                                                                                                                                                           0.948617\n",
       "  User Experience Designer                                                                                                                                                                                 0.790514\n",
       "  User Experience Designer,   Front-End Web Developer                                                                                                                                                      0.790514\n",
       "Back-End Web Developer, Full-Stack Web Developer,   Front-End Web Developer                                                                                                                                0.790514\n",
       "Game Developer                                                                                                                                                                                             0.711462\n",
       "Back-End Web Developer,   Front-End Web Developer, Full-Stack Web Developer                                                                                                                                0.632411\n",
       "Full-Stack Web Developer, Back-End Web Developer                                                                                                                                                           0.632411\n",
       "  Front-End Web Developer,   User Experience Designer                                                                                                                                                      0.474308\n",
       "  Front-End Web Developer, Full-Stack Web Developer, Back-End Web Developer                                                                                                                                0.474308\n",
       "  Data Scientist, Full-Stack Web Developer                                                                                                                                                                 0.395257\n",
       "Full-Stack Web Developer,   Mobile Developer                                                                                                                                                               0.395257\n",
       "  DevOps / SysAdmin                                                                                                                                                                                        0.395257\n",
       "Data Engineer,   Data Scientist                                                                                                                                                                            0.395257\n",
       "  Front-End Web Developer, Full-Stack Web Developer,   Mobile Developer                                                                                                                                    0.395257\n",
       "Back-End Web Developer,   Front-End Web Developer                                                                                                                                                          0.395257\n",
       "Full-Stack Web Developer,   Front-End Web Developer, Back-End Web Developer                                                                                                                                0.316206\n",
       "  User Experience Designer, Full-Stack Web Developer,   Front-End Web Developer                                                                                                                            0.316206\n",
       "Full-Stack Web Developer,   Mobile Developer,   Front-End Web Developer                                                                                                                                    0.316206\n",
       "Full-Stack Web Developer, Information Security                                                                                                                                                             0.316206\n",
       "                                                                                                                                                                                                            ...    \n",
       "Game Developer,   Data Scientist, Data Engineer                                                                                                                                                            0.079051\n",
       "  Mobile Developer,   Front-End Web Developer, Game Developer                                                                                                                                              0.079051\n",
       "  Front-End Web Developer, Data Engineer,   Product Manager, Full-Stack Web Developer,   Data Scientist,   Mobile Developer                                                                                0.079051\n",
       "  Front-End Web Developer,   DevOps / SysAdmin,   Mobile Developer                                                                                                                                         0.079051\n",
       "Information Security, Data Engineer                                                                                                                                                                        0.079051\n",
       "Game Developer, Full-Stack Web Developer,   Data Scientist, Data Engineer                                                                                                                                  0.079051\n",
       "  Mobile Developer, Full-Stack Web Developer,   Front-End Web Developer                                                                                                                                    0.079051\n",
       "Game Developer,   Mobile Developer,   Front-End Web Developer, Full-Stack Web Developer, Back-End Web Developer                                                                                            0.079051\n",
       "  User Experience Designer, Full-Stack Web Developer,   Mobile Developer,   Front-End Web Developer, Back-End Web Developer                                                                                0.079051\n",
       "  Data Scientist, Full-Stack Web Developer,   Mobile Developer, Back-End Web Developer,   Front-End Web Developer, Game Developer                                                                          0.079051\n",
       "Back-End Web Developer, Information Security,   DevOps / SysAdmin, Full-Stack Web Developer, Data Engineer,   Mobile Developer,   Front-End Web Developer                                                  0.079051\n",
       "  Front-End Web Developer, Back-End Web Developer,   DevOps / SysAdmin,   Mobile Developer, Full-Stack Web Developer                                                                                       0.079051\n",
       "  Front-End Web Developer,   Product Manager,   Quality Assurance Engineer, Information Security, Game Developer, Full-Stack Web Developer                                                                 0.079051\n",
       "  Data Scientist,   Mobile Developer,   Front-End Web Developer, Back-End Web Developer, Full-Stack Web Developer                                                                                          0.079051\n",
       "Information Security,   User Experience Designer, Back-End Web Developer,   Mobile Developer,   Front-End Web Developer,   DevOps / SysAdmin, Full-Stack Web Developer                                     0.079051\n",
       "  Data Scientist,   Mobile Developer, Full-Stack Web Developer, Data Engineer,   Front-End Web Developer, Back-End Web Developer                                                                           0.079051\n",
       "  DevOps / SysAdmin, Back-End Web Developer,   Product Manager, Information Security,   Front-End Web Developer                                                                                            0.079051\n",
       "  Front-End Web Developer,   User Experience Designer,   Product Manager, Back-End Web Developer, Information Security,   DevOps / SysAdmin, Full-Stack Web Developer, Data Engineer,   Data Scientist     0.079051\n",
       "  Front-End Web Developer, Back-End Web Developer,   Mobile Developer, Full-Stack Web Developer                                                                                                            0.079051\n",
       "Data Engineer, Full-Stack Web Developer,   Data Scientist, Information Security, Back-End Web Developer                                                                                                    0.079051\n",
       "Full-Stack Web Developer,   Front-End Web Developer,   Mobile Developer,   User Experience Designer                                                                                                        0.079051\n",
       "Back-End Web Developer, Game Developer,   Front-End Web Developer, Full-Stack Web Developer                                                                                                                0.079051\n",
       "Information Security, Full-Stack Web Developer, Back-End Web Developer                                                                                                                                     0.079051\n",
       "Information Security,   Data Scientist,   Quality Assurance Engineer, Data Engineer                                                                                                                        0.079051\n",
       "  Front-End Web Developer,   Mobile Developer, Full-Stack Web Developer, Game Developer, Back-End Web Developer, Information Security                                                                      0.079051\n",
       "  Front-End Web Developer,   DevOps / SysAdmin, Full-Stack Web Developer,   Mobile Developer,   User Experience Designer, Game Developer,   Quality Assurance Engineer, Back-End Web Developer             0.079051\n",
       "Back-End Web Developer, Full-Stack Web Developer,   Mobile Developer,   DevOps / SysAdmin                                                                                                                  0.079051\n",
       "  Front-End Web Developer, Full-Stack Web Developer, Game Developer,   Quality Assurance Engineer                                                                                                          0.079051\n",
       "Full-Stack Web Developer, Back-End Web Developer,   Quality Assurance Engineer,   Front-End Web Developer                                                                                                  0.079051\n",
       "Information Security,   Product Manager                                                                                                                                                                    0.079051\n",
       "Name: JobRoleInterest, Length: 732, dtype: float64"
      ]
     },
     "execution_count": 3,
     "metadata": {},
     "output_type": "execute_result"
    }
   ],
   "source": [
    "survey['JobRoleInterest'].value_counts(normalize=True)*100"
   ]
  },
  {
   "cell_type": "code",
   "execution_count": 5,
   "metadata": {
    "collapsed": false
   },
   "outputs": [],
   "source": [
    "interests_no_nulls = survey['JobRoleInterest'].dropna()\n",
    "splitted_interests = interests_no_nulls.str.split(',')"
   ]
  },
  {
   "cell_type": "code",
   "execution_count": 6,
   "metadata": {
    "collapsed": false
   },
   "outputs": [
    {
     "data": {
      "text/plain": [
       "1                              [Full-Stack Web Developer]\n",
       "2       [  Front-End Web Developer,  Back-End Web Deve...\n",
       "3       [  Front-End Web Developer,  Full-Stack Web De...\n",
       "4       [Full-Stack Web Developer,  Information Securi...\n",
       "6                              [Full-Stack Web Developer]\n",
       "9       [Full-Stack Web Developer,    Quality Assuranc...\n",
       "11      [  DevOps / SysAdmin,    Data Scientist,  Info...\n",
       "13      [Back-End Web Developer,  Full-Stack Web Devel...\n",
       "14                             [Full-Stack Web Developer]\n",
       "15                             [Full-Stack Web Developer]\n",
       "16                             [Full-Stack Web Developer]\n",
       "18      [Full-Stack Web Developer,    Front-End Web De...\n",
       "19      [  Front-End Web Developer,    Mobile Develope...\n",
       "21                                 [Information Security]\n",
       "22                             [Full-Stack Web Developer]\n",
       "23                               [Back-End Web Developer]\n",
       "28                             [Full-Stack Web Developer]\n",
       "29      [  Front-End Web Developer,    Data Scientist,...\n",
       "30      [Back-End Web Developer,  Full-Stack Web Devel...\n",
       "31                            [  Front-End Web Developer]\n",
       "32      [  Data Scientist,  Information Security,  Dat...\n",
       "33      [Full-Stack Web Developer,    Quality Assuranc...\n",
       "34      [Back-End Web Developer,  Full-Stack Web Devel...\n",
       "35      [Back-End Web Developer,  Full-Stack Web Devel...\n",
       "37               [  Mobile Developer,    Product Manager]\n",
       "40      [  Front-End Web Developer,  Back-End Web Deve...\n",
       "41                            [  Front-End Web Developer]\n",
       "42                             [Full-Stack Web Developer]\n",
       "43      [Back-End Web Developer,    Front-End Web Deve...\n",
       "52      [  Data Scientist,  Game Developer,  Full-Stac...\n",
       "                              ...                        \n",
       "2804    [Back-End Web Developer,    Front-End Web Deve...\n",
       "2806    [Data Engineer,    Front-End Web Developer,   ...\n",
       "2809                          [  Front-End Web Developer]\n",
       "2811    [  Front-End Web Developer,  Full-Stack Web De...\n",
       "2812    [  Quality Assurance Engineer,    Mobile Devel...\n",
       "2813                          [  Front-End Web Developer]\n",
       "2814                               [Information Security]\n",
       "2815                                   [  Data Scientist]\n",
       "2818    [  Front-End Web Developer,    User Experience...\n",
       "2819                           [Full-Stack Web Developer]\n",
       "2822    [Back-End Web Developer,  Full-Stack Web Devel...\n",
       "2828    [  Front-End Web Developer,    Data Scientist,...\n",
       "2831                                   [  Data Scientist]\n",
       "2834                          [  Front-End Web Developer]\n",
       "2836               [  Data Scientist,    Product Manager]\n",
       "2837    [Information Security,  Full-Stack Web Develop...\n",
       "2838    [  Data Scientist,    Quality Assurance Engineer]\n",
       "2839    [  Front-End Web Developer,  Full-Stack Web De...\n",
       "2842    [  User Experience Designer,    Front-End Web ...\n",
       "2845                           [Full-Stack Web Developer]\n",
       "2846    [Game Developer,  Full-Stack Web Developer,   ...\n",
       "2848    [  DevOps / SysAdmin,    Data Scientist,  Info...\n",
       "2855    [Game Developer,    Mobile Developer,    Front...\n",
       "2860                          [  Front-End Web Developer]\n",
       "2866    [  Quality Assurance Engineer,    Front-End We...\n",
       "2869    [Full-Stack Web Developer,  Game Developer,   ...\n",
       "2871    [Back-End Web Developer,  Full-Stack Web Devel...\n",
       "2872               [Information Security,  Data Engineer]\n",
       "2877                           [Full-Stack Web Developer]\n",
       "2879                             [Back-End Web Developer]\n",
       "Name: JobRoleInterest, Length: 1265, dtype: object"
      ]
     },
     "execution_count": 6,
     "metadata": {},
     "output_type": "execute_result"
    }
   ],
   "source": [
    "splitted_interests"
   ]
  },
  {
   "cell_type": "code",
   "execution_count": 10,
   "metadata": {
    "collapsed": false
   },
   "outputs": [
    {
     "data": {
      "text/plain": [
       "1     27.272727\n",
       "2     12.569170\n",
       "3     18.023715\n",
       "4     16.521739\n",
       "5     12.332016\n",
       "6      6.719368\n",
       "7      3.320158\n",
       "8      1.185771\n",
       "9      1.106719\n",
       "10     0.474308\n",
       "11     0.237154\n",
       "12     0.237154\n",
       "Name: JobRoleInterest, dtype: float64"
      ]
     },
     "execution_count": 10,
     "metadata": {},
     "output_type": "execute_result"
    }
   ],
   "source": [
    "n_of_options = splitted_interests.apply(lambda x: len(x))\n",
    "n_of_options.value_counts(normalize = True).sort_index() * 100"
   ]
  },
  {
   "cell_type": "code",
   "execution_count": 11,
   "metadata": {
    "collapsed": false
   },
   "outputs": [
    {
     "data": {
      "text/plain": [
       "1        1\n",
       "2        5\n",
       "3        3\n",
       "4        5\n",
       "6        1\n",
       "9        6\n",
       "11       4\n",
       "13       3\n",
       "14       1\n",
       "15       1\n",
       "16       1\n",
       "18       4\n",
       "19       4\n",
       "21       1\n",
       "22       1\n",
       "23       1\n",
       "28       1\n",
       "29       4\n",
       "30       2\n",
       "31       1\n",
       "32       3\n",
       "33       2\n",
       "34       2\n",
       "35       4\n",
       "37       2\n",
       "40       6\n",
       "41       1\n",
       "42       1\n",
       "43       3\n",
       "52      12\n",
       "        ..\n",
       "2804     4\n",
       "2806     3\n",
       "2809     1\n",
       "2811     2\n",
       "2812     5\n",
       "2813     1\n",
       "2814     1\n",
       "2815     1\n",
       "2818     4\n",
       "2819     1\n",
       "2822     2\n",
       "2828     7\n",
       "2831     1\n",
       "2834     1\n",
       "2836     2\n",
       "2837     5\n",
       "2838     2\n",
       "2839     3\n",
       "2842     3\n",
       "2845     1\n",
       "2846     3\n",
       "2848     4\n",
       "2855     3\n",
       "2860     1\n",
       "2866     6\n",
       "2869     4\n",
       "2871     4\n",
       "2872     2\n",
       "2877     1\n",
       "2879     1\n",
       "Name: JobRoleInterest, Length: 1265, dtype: int64"
      ]
     },
     "execution_count": 11,
     "metadata": {},
     "output_type": "execute_result"
    }
   ],
   "source": [
    "n_of_options"
   ]
  },
  {
   "cell_type": "code",
   "execution_count": 12,
   "metadata": {
    "collapsed": false
   },
   "outputs": [
    {
     "name": "stdout",
     "output_type": "stream",
     "text": [
      "True     87.98419\n",
      "False    12.01581\n",
      "Name: JobRoleInterest, dtype: float64\n"
     ]
    }
   ],
   "source": [
    "web_or_mobile = interests_no_nulls.str.contains(\n",
    "    'Web Developer|Mobile Developer')\n",
    "freq_table = web_or_mobile.value_counts(normalize = True) * 100\n",
    "print(freq_table)"
   ]
  },
  {
   "cell_type": "code",
   "execution_count": 13,
   "metadata": {
    "collapsed": false
   },
   "outputs": [
    {
     "data": {
      "image/png": "[encoded data removed]",
      "text/plain": [
       "<matplotlib.figure.Figure at 0x7f728fda3f98>"
      ]
     },
     "metadata": {},
     "output_type": "display_data"
    }
   ],
   "source": [
    "%matplotlib inline\n",
    "import matplotlib.pyplot as plt\n",
    "plt.style.use('fivethirtyeight')\n",
    "\n",
    "freq_table.plot.bar()\n",
    "plt.title('Most Participants are Interested in \\nWeb or Mobile Development',\n",
    "          y = 1.08)\n",
    "\n",
    "plt.ylabel('Percentage', fontsize = 12)\n",
    "plt.xticks([0,1],['Web or mobile\\ndevelopment', 'Other subject'],\n",
    "           rotation = 0)\n",
    "plt.ylim([0,100])\n",
    "plt.show()"
   ]
  },
  {
   "cell_type": "code",
   "execution_count": 18,
   "metadata": {
    "collapsed": true
   },
   "outputs": [],
   "source": [
    "good_survey=survey[survey['JobRoleInterest'].notnull()].copy()"
   ]
  },
  {
   "cell_type": "code",
   "execution_count": 19,
   "metadata": {
    "collapsed": false
   },
   "outputs": [
    {
     "data": {
      "text/html": [
       "<div>\n",
       "<style scoped>\n",
       "    .dataframe tbody tr th:only-of-type {\n",
       "        vertical-align: middle;\n",
       "    }\n",
       "\n",
       "    .dataframe tbody tr th {\n",
       "        vertical-align: top;\n",
       "    }\n",
       "\n",
       "    .dataframe thead th {\n",
       "        text-align: right;\n",
       "    }\n",
       "</style>\n",
       "<table border=\"1\" class=\"dataframe\">\n",
       "  <thead>\n",
       "    <tr style=\"text-align: right;\">\n",
       "      <th></th>\n",
       "      <th>Absolute frequency</th>\n",
       "      <th>Percentage</th>\n",
       "    </tr>\n",
       "  </thead>\n",
       "  <tbody>\n",
       "    <tr>\n",
       "      <th>United States of America</th>\n",
       "      <td>620</td>\n",
       "      <td>50.000000</td>\n",
       "    </tr>\n",
       "    <tr>\n",
       "      <th>India</th>\n",
       "      <td>105</td>\n",
       "      <td>8.467742</td>\n",
       "    </tr>\n",
       "    <tr>\n",
       "      <th>United Kingdom</th>\n",
       "      <td>64</td>\n",
       "      <td>5.161290</td>\n",
       "    </tr>\n",
       "    <tr>\n",
       "      <th>Canada</th>\n",
       "      <td>49</td>\n",
       "      <td>3.951613</td>\n",
       "    </tr>\n",
       "    <tr>\n",
       "      <th>Germany</th>\n",
       "      <td>26</td>\n",
       "      <td>2.096774</td>\n",
       "    </tr>\n",
       "    <tr>\n",
       "      <th>Poland</th>\n",
       "      <td>24</td>\n",
       "      <td>1.935484</td>\n",
       "    </tr>\n",
       "    <tr>\n",
       "      <th>Brazil</th>\n",
       "      <td>23</td>\n",
       "      <td>1.854839</td>\n",
       "    </tr>\n",
       "    <tr>\n",
       "      <th>Australia</th>\n",
       "      <td>19</td>\n",
       "      <td>1.532258</td>\n",
       "    </tr>\n",
       "    <tr>\n",
       "      <th>Romania</th>\n",
       "      <td>14</td>\n",
       "      <td>1.129032</td>\n",
       "    </tr>\n",
       "    <tr>\n",
       "      <th>Russia</th>\n",
       "      <td>13</td>\n",
       "      <td>1.048387</td>\n",
       "    </tr>\n",
       "    <tr>\n",
       "      <th>Italy</th>\n",
       "      <td>12</td>\n",
       "      <td>0.967742</td>\n",
       "    </tr>\n",
       "    <tr>\n",
       "      <th>Spain</th>\n",
       "      <td>11</td>\n",
       "      <td>0.887097</td>\n",
       "    </tr>\n",
       "    <tr>\n",
       "      <th>France</th>\n",
       "      <td>11</td>\n",
       "      <td>0.887097</td>\n",
       "    </tr>\n",
       "    <tr>\n",
       "      <th>Netherlands (Holland, Europe)</th>\n",
       "      <td>10</td>\n",
       "      <td>0.806452</td>\n",
       "    </tr>\n",
       "    <tr>\n",
       "      <th>Mexico</th>\n",
       "      <td>9</td>\n",
       "      <td>0.725806</td>\n",
       "    </tr>\n",
       "    <tr>\n",
       "      <th>Serbia</th>\n",
       "      <td>9</td>\n",
       "      <td>0.725806</td>\n",
       "    </tr>\n",
       "    <tr>\n",
       "      <th>Belgium</th>\n",
       "      <td>9</td>\n",
       "      <td>0.725806</td>\n",
       "    </tr>\n",
       "    <tr>\n",
       "      <th>New Zealand</th>\n",
       "      <td>8</td>\n",
       "      <td>0.645161</td>\n",
       "    </tr>\n",
       "    <tr>\n",
       "      <th>Sweden</th>\n",
       "      <td>8</td>\n",
       "      <td>0.645161</td>\n",
       "    </tr>\n",
       "    <tr>\n",
       "      <th>Turkey</th>\n",
       "      <td>8</td>\n",
       "      <td>0.645161</td>\n",
       "    </tr>\n",
       "    <tr>\n",
       "      <th>Bosnia &amp; Herzegovina</th>\n",
       "      <td>7</td>\n",
       "      <td>0.564516</td>\n",
       "    </tr>\n",
       "    <tr>\n",
       "      <th>Philippines</th>\n",
       "      <td>7</td>\n",
       "      <td>0.564516</td>\n",
       "    </tr>\n",
       "    <tr>\n",
       "      <th>Argentina</th>\n",
       "      <td>7</td>\n",
       "      <td>0.564516</td>\n",
       "    </tr>\n",
       "    <tr>\n",
       "      <th>Singapore</th>\n",
       "      <td>7</td>\n",
       "      <td>0.564516</td>\n",
       "    </tr>\n",
       "    <tr>\n",
       "      <th>Ireland</th>\n",
       "      <td>6</td>\n",
       "      <td>0.483871</td>\n",
       "    </tr>\n",
       "    <tr>\n",
       "      <th>Greece</th>\n",
       "      <td>6</td>\n",
       "      <td>0.483871</td>\n",
       "    </tr>\n",
       "    <tr>\n",
       "      <th>Portugal</th>\n",
       "      <td>6</td>\n",
       "      <td>0.483871</td>\n",
       "    </tr>\n",
       "    <tr>\n",
       "      <th>Nigeria</th>\n",
       "      <td>6</td>\n",
       "      <td>0.483871</td>\n",
       "    </tr>\n",
       "    <tr>\n",
       "      <th>Ukraine</th>\n",
       "      <td>6</td>\n",
       "      <td>0.483871</td>\n",
       "    </tr>\n",
       "    <tr>\n",
       "      <th>Norway</th>\n",
       "      <td>5</td>\n",
       "      <td>0.403226</td>\n",
       "    </tr>\n",
       "    <tr>\n",
       "      <th>...</th>\n",
       "      <td>...</td>\n",
       "      <td>...</td>\n",
       "    </tr>\n",
       "    <tr>\n",
       "      <th>Ghana</th>\n",
       "      <td>2</td>\n",
       "      <td>0.161290</td>\n",
       "    </tr>\n",
       "    <tr>\n",
       "      <th>Bulgaria</th>\n",
       "      <td>2</td>\n",
       "      <td>0.161290</td>\n",
       "    </tr>\n",
       "    <tr>\n",
       "      <th>Georgia</th>\n",
       "      <td>2</td>\n",
       "      <td>0.161290</td>\n",
       "    </tr>\n",
       "    <tr>\n",
       "      <th>Sri Lanka</th>\n",
       "      <td>2</td>\n",
       "      <td>0.161290</td>\n",
       "    </tr>\n",
       "    <tr>\n",
       "      <th>Hong Kong</th>\n",
       "      <td>2</td>\n",
       "      <td>0.161290</td>\n",
       "    </tr>\n",
       "    <tr>\n",
       "      <th>Iran</th>\n",
       "      <td>2</td>\n",
       "      <td>0.161290</td>\n",
       "    </tr>\n",
       "    <tr>\n",
       "      <th>Peru</th>\n",
       "      <td>2</td>\n",
       "      <td>0.161290</td>\n",
       "    </tr>\n",
       "    <tr>\n",
       "      <th>Bahrain</th>\n",
       "      <td>1</td>\n",
       "      <td>0.080645</td>\n",
       "    </tr>\n",
       "    <tr>\n",
       "      <th>Cyprus</th>\n",
       "      <td>1</td>\n",
       "      <td>0.080645</td>\n",
       "    </tr>\n",
       "    <tr>\n",
       "      <th>Albania</th>\n",
       "      <td>1</td>\n",
       "      <td>0.080645</td>\n",
       "    </tr>\n",
       "    <tr>\n",
       "      <th>Guam</th>\n",
       "      <td>1</td>\n",
       "      <td>0.080645</td>\n",
       "    </tr>\n",
       "    <tr>\n",
       "      <th>Morocco</th>\n",
       "      <td>1</td>\n",
       "      <td>0.080645</td>\n",
       "    </tr>\n",
       "    <tr>\n",
       "      <th>Jamaica</th>\n",
       "      <td>1</td>\n",
       "      <td>0.080645</td>\n",
       "    </tr>\n",
       "    <tr>\n",
       "      <th>Algeria</th>\n",
       "      <td>1</td>\n",
       "      <td>0.080645</td>\n",
       "    </tr>\n",
       "    <tr>\n",
       "      <th>Chile</th>\n",
       "      <td>1</td>\n",
       "      <td>0.080645</td>\n",
       "    </tr>\n",
       "    <tr>\n",
       "      <th>Senegal</th>\n",
       "      <td>1</td>\n",
       "      <td>0.080645</td>\n",
       "    </tr>\n",
       "    <tr>\n",
       "      <th>Iceland</th>\n",
       "      <td>1</td>\n",
       "      <td>0.080645</td>\n",
       "    </tr>\n",
       "    <tr>\n",
       "      <th>Czech Republic</th>\n",
       "      <td>1</td>\n",
       "      <td>0.080645</td>\n",
       "    </tr>\n",
       "    <tr>\n",
       "      <th>Botswana</th>\n",
       "      <td>1</td>\n",
       "      <td>0.080645</td>\n",
       "    </tr>\n",
       "    <tr>\n",
       "      <th>Ecuador</th>\n",
       "      <td>1</td>\n",
       "      <td>0.080645</td>\n",
       "    </tr>\n",
       "    <tr>\n",
       "      <th>Virgin Islands (USA)</th>\n",
       "      <td>1</td>\n",
       "      <td>0.080645</td>\n",
       "    </tr>\n",
       "    <tr>\n",
       "      <th>Kyrgyzstan</th>\n",
       "      <td>1</td>\n",
       "      <td>0.080645</td>\n",
       "    </tr>\n",
       "    <tr>\n",
       "      <th>Tunisia</th>\n",
       "      <td>1</td>\n",
       "      <td>0.080645</td>\n",
       "    </tr>\n",
       "    <tr>\n",
       "      <th>Honduras</th>\n",
       "      <td>1</td>\n",
       "      <td>0.080645</td>\n",
       "    </tr>\n",
       "    <tr>\n",
       "      <th>Turkmenistan</th>\n",
       "      <td>1</td>\n",
       "      <td>0.080645</td>\n",
       "    </tr>\n",
       "    <tr>\n",
       "      <th>Haiti</th>\n",
       "      <td>1</td>\n",
       "      <td>0.080645</td>\n",
       "    </tr>\n",
       "    <tr>\n",
       "      <th>Iraq</th>\n",
       "      <td>1</td>\n",
       "      <td>0.080645</td>\n",
       "    </tr>\n",
       "    <tr>\n",
       "      <th>Slovakia</th>\n",
       "      <td>1</td>\n",
       "      <td>0.080645</td>\n",
       "    </tr>\n",
       "    <tr>\n",
       "      <th>Slovenia</th>\n",
       "      <td>1</td>\n",
       "      <td>0.080645</td>\n",
       "    </tr>\n",
       "    <tr>\n",
       "      <th>Panama</th>\n",
       "      <td>1</td>\n",
       "      <td>0.080645</td>\n",
       "    </tr>\n",
       "  </tbody>\n",
       "</table>\n",
       "<p>89 rows × 2 columns</p>\n",
       "</div>"
      ],
      "text/plain": [
       "                               Absolute frequency  Percentage\n",
       "United States of America                      620   50.000000\n",
       "India                                         105    8.467742\n",
       "United Kingdom                                 64    5.161290\n",
       "Canada                                         49    3.951613\n",
       "Germany                                        26    2.096774\n",
       "Poland                                         24    1.935484\n",
       "Brazil                                         23    1.854839\n",
       "Australia                                      19    1.532258\n",
       "Romania                                        14    1.129032\n",
       "Russia                                         13    1.048387\n",
       "Italy                                          12    0.967742\n",
       "Spain                                          11    0.887097\n",
       "France                                         11    0.887097\n",
       "Netherlands (Holland, Europe)                  10    0.806452\n",
       "Mexico                                          9    0.725806\n",
       "Serbia                                          9    0.725806\n",
       "Belgium                                         9    0.725806\n",
       "New Zealand                                     8    0.645161\n",
       "Sweden                                          8    0.645161\n",
       "Turkey                                          8    0.645161\n",
       "Bosnia & Herzegovina                            7    0.564516\n",
       "Philippines                                     7    0.564516\n",
       "Argentina                                       7    0.564516\n",
       "Singapore                                       7    0.564516\n",
       "Ireland                                         6    0.483871\n",
       "Greece                                          6    0.483871\n",
       "Portugal                                        6    0.483871\n",
       "Nigeria                                         6    0.483871\n",
       "Ukraine                                         6    0.483871\n",
       "Norway                                          5    0.403226\n",
       "...                                           ...         ...\n",
       "Ghana                                           2    0.161290\n",
       "Bulgaria                                        2    0.161290\n",
       "Georgia                                         2    0.161290\n",
       "Sri Lanka                                       2    0.161290\n",
       "Hong Kong                                       2    0.161290\n",
       "Iran                                            2    0.161290\n",
       "Peru                                            2    0.161290\n",
       "Bahrain                                         1    0.080645\n",
       "Cyprus                                          1    0.080645\n",
       "Albania                                         1    0.080645\n",
       "Guam                                            1    0.080645\n",
       "Morocco                                         1    0.080645\n",
       "Jamaica                                         1    0.080645\n",
       "Algeria                                         1    0.080645\n",
       "Chile                                           1    0.080645\n",
       "Senegal                                         1    0.080645\n",
       "Iceland                                         1    0.080645\n",
       "Czech Republic                                  1    0.080645\n",
       "Botswana                                        1    0.080645\n",
       "Ecuador                                         1    0.080645\n",
       "Virgin Islands (USA)                            1    0.080645\n",
       "Kyrgyzstan                                      1    0.080645\n",
       "Tunisia                                         1    0.080645\n",
       "Honduras                                        1    0.080645\n",
       "Turkmenistan                                    1    0.080645\n",
       "Haiti                                           1    0.080645\n",
       "Iraq                                            1    0.080645\n",
       "Slovakia                                        1    0.080645\n",
       "Slovenia                                        1    0.080645\n",
       "Panama                                          1    0.080645\n",
       "\n",
       "[89 rows x 2 columns]"
      ]
     },
     "execution_count": 19,
     "metadata": {},
     "output_type": "execute_result"
    }
   ],
   "source": [
    "absolute_frequencies = good_survey['CountryLive'].value_counts()\n",
    "relative_frequencies = good_survey['CountryLive'].value_counts(normalize = True) * 100\n",
    "\n",
    "pd.DataFrame(data = {'Absolute frequency': absolute_frequencies, \n",
    "                     'Percentage': relative_frequencies}\n",
    "            )"
   ]
  },
  {
   "cell_type": "code",
   "execution_count": 20,
   "metadata": {
    "collapsed": false
   },
   "outputs": [
    {
     "data": {
      "text/plain": [
       "122"
      ]
     },
     "execution_count": 20,
     "metadata": {},
     "output_type": "execute_result"
    }
   ],
   "source": [
    "good_survey['MonthsProgramming'].replace(0,1, inplace = True)\n",
    "good_survey['money_per_month'] = good_survey['MoneyForLearning'] / good_survey['MonthsProgramming']\n",
    "good_survey['money_per_month'].isnull().sum()"
   ]
  },
  {
   "cell_type": "code",
   "execution_count": 21,
   "metadata": {
    "collapsed": false
   },
   "outputs": [
    {
     "data": {
      "text/plain": [
       "United States of America    582\n",
       "India                        92\n",
       "United Kingdom               58\n",
       "Canada                       45\n",
       "Germany                      23\n",
       "Name: CountryLive, dtype: int64"
      ]
     },
     "execution_count": 21,
     "metadata": {},
     "output_type": "execute_result"
    }
   ],
   "source": [
    "good_survey = good_survey[good_survey['money_per_month'].notnull()]\n",
    "good_survey = good_survey[good_survey['CountryLive'].notnull()]\n",
    "good_survey['CountryLive'].value_counts().head()\n"
   ]
  },
  {
   "cell_type": "code",
   "execution_count": 22,
   "metadata": {
    "collapsed": false
   },
   "outputs": [
    {
     "data": {
      "text/plain": [
       "CountryLive\n",
       "United States of America    262.466988\n",
       "India                       119.467205\n",
       "United Kingdom               18.921319\n",
       "Canada                       35.808258\n",
       "Name: money_per_month, dtype: float64"
      ]
     },
     "execution_count": 22,
     "metadata": {},
     "output_type": "execute_result"
    }
   ],
   "source": [
    "countries_mean = good_survey.groupby('CountryLive').mean()\n",
    "countries_mean['money_per_month'][['United States of America',\n",
    "                            'India', 'United Kingdom',\n",
    "                            'Canada']]"
   ]
  },
  {
   "cell_type": "code",
   "execution_count": 23,
   "metadata": {
    "collapsed": false
   },
   "outputs": [
    {
     "name": "stderr",
     "output_type": "stream",
     "text": [
      "/dataquest/system/env/python3/lib/python3.4/site-packages/seaborn/categorical.py:454: FutureWarning: remove_na is deprecated and is a private function. Do not use.\n",
      "  box_data = remove_na(group_data)\n"
     ]
    },
    {
     "data": {
      "text/plain": [
       "<matplotlib.axes._subplots.AxesSubplot at 0x7f7285a9e668>"
      ]
     },
     "execution_count": 23,
     "metadata": {},
     "output_type": "execute_result"
    },
    {
     "data": {
      "image/png": "[encoded data removed]",
      "text/plain": [
       "<matplotlib.figure.Figure at 0x7f728da80470>"
      ]
     },
     "metadata": {},
     "output_type": "display_data"
    }
   ],
   "source": [
    "import seaborn as sns\n",
    "\n",
    "only_4 = good_survey[good_survey['CountryLive'].str.contains(\n",
    "    'United States of America|India|United Kingdom|Canada')]\n",
    "sns.boxplot(y = 'money_per_month', x = 'CountryLive',\n",
    "            data = only_4)"
   ]
  },
  {
   "cell_type": "code",
   "execution_count": 24,
   "metadata": {
    "collapsed": true
   },
   "outputs": [],
   "source": [
    "good_survey = good_survey[good_survey['money_per_month'] < 10000]\n"
   ]
  },
  {
   "cell_type": "code",
   "execution_count": 25,
   "metadata": {
    "collapsed": false
   },
   "outputs": [
    {
     "data": {
      "text/plain": [
       "CountryLive\n",
       "United States of America    176.860219\n",
       "India                       119.467205\n",
       "United Kingdom               18.921319\n",
       "Canada                       35.808258\n",
       "Name: money_per_month, dtype: float64"
      ]
     },
     "execution_count": 25,
     "metadata": {},
     "output_type": "execute_result"
    }
   ],
   "source": [
    "countries_mean = good_survey.groupby('CountryLive').mean()\n",
    "countries_mean['money_per_month'][['United States of America',\n",
    "                            'India', 'United Kingdom',\n",
    "                            'Canada']]"
   ]
  },
  {
   "cell_type": "code",
   "execution_count": 26,
   "metadata": {
    "collapsed": false,
    "scrolled": true
   },
   "outputs": [
    {
     "name": "stderr",
     "output_type": "stream",
     "text": [
      "/dataquest/system/env/python3/lib/python3.4/site-packages/seaborn/categorical.py:454: FutureWarning: remove_na is deprecated and is a private function. Do not use.\n",
      "  box_data = remove_na(group_data)\n"
     ]
    },
    {
     "data": {
      "text/plain": [
       "<matplotlib.axes._subplots.AxesSubplot at 0x7f728da79898>"
      ]
     },
     "execution_count": 26,
     "metadata": {},
     "output_type": "execute_result"
    },
    {
     "data": {
      "image/png": "[encoded data removed]",
      "text/plain": [
       "<matplotlib.figure.Figure at 0x7f73054a6208>"
      ]
     },
     "metadata": {},
     "output_type": "display_data"
    }
   ],
   "source": [
    "only_4 = good_survey[good_survey['CountryLive'].str.contains(\n",
    "    'United States of America|India|United Kingdom|Canada')]\n",
    "sns.boxplot(y = 'money_per_month', x = 'CountryLive',\n",
    "            data = only_4)"
   ]
  },
  {
   "cell_type": "code",
   "execution_count": 28,
   "metadata": {
    "collapsed": false
   },
   "outputs": [
    {
     "ename": "ValueError",
     "evalue": "labels [1728 1755] not contained in axis",
     "output_type": "error",
     "traceback": [
      "\u001b[1;31m\u001b[0m",
      "\u001b[1;31mValueError\u001b[0mTraceback (most recent call last)",
      "\u001b[1;32m<ipython-input-28-af571aef4aeb>\u001b[0m in \u001b[0;36m<module>\u001b[1;34m()\u001b[0m\n\u001b[0;32m      1\u001b[0m \u001b[0monly_4\u001b[0m\u001b[1;33m[\u001b[0m\u001b[1;33m(\u001b[0m\u001b[0monly_4\u001b[0m\u001b[1;33m[\u001b[0m\u001b[1;34m'CountryLive'\u001b[0m\u001b[1;33m]\u001b[0m \u001b[1;33m==\u001b[0m \u001b[1;34m'India'\u001b[0m\u001b[1;33m)\u001b[0m \u001b[1;33m&\u001b[0m \u001b[1;33m(\u001b[0m\u001b[0monly_4\u001b[0m\u001b[1;33m[\u001b[0m\u001b[1;34m'money_per_month'\u001b[0m\u001b[1;33m]\u001b[0m \u001b[1;33m>\u001b[0m \u001b[1;36m3000\u001b[0m\u001b[1;33m)\u001b[0m\u001b[1;33m]\u001b[0m\u001b[1;33m\u001b[0m\u001b[0m\n\u001b[0;32m      2\u001b[0m \u001b[1;33m\u001b[0m\u001b[0m\n\u001b[1;32m----> 3\u001b[1;33m \u001b[0monly_4\u001b[0m \u001b[1;33m=\u001b[0m \u001b[0monly_4\u001b[0m\u001b[1;33m.\u001b[0m\u001b[0mdrop\u001b[0m\u001b[1;33m(\u001b[0m\u001b[1;33m[\u001b[0m\u001b[1;36m1728\u001b[0m\u001b[1;33m,\u001b[0m\u001b[1;36m1755\u001b[0m\u001b[1;33m]\u001b[0m\u001b[1;33m)\u001b[0m\u001b[1;33m\u001b[0m\u001b[0m\n\u001b[0m",
      "\u001b[1;32m/dataquest/system/env/python3/lib/python3.4/site-packages/pandas/core/generic.py\u001b[0m in \u001b[0;36mdrop\u001b[1;34m(self, labels, axis, index, columns, level, inplace, errors)\u001b[0m\n\u001b[0;32m   2528\u001b[0m         \u001b[1;32mfor\u001b[0m \u001b[0maxis\u001b[0m\u001b[1;33m,\u001b[0m \u001b[0mlabels\u001b[0m \u001b[1;32min\u001b[0m \u001b[0maxes\u001b[0m\u001b[1;33m.\u001b[0m\u001b[0mitems\u001b[0m\u001b[1;33m(\u001b[0m\u001b[1;33m)\u001b[0m\u001b[1;33m:\u001b[0m\u001b[1;33m\u001b[0m\u001b[0m\n\u001b[0;32m   2529\u001b[0m             \u001b[1;32mif\u001b[0m \u001b[0mlabels\u001b[0m \u001b[1;32mis\u001b[0m \u001b[1;32mnot\u001b[0m \u001b[1;32mNone\u001b[0m\u001b[1;33m:\u001b[0m\u001b[1;33m\u001b[0m\u001b[0m\n\u001b[1;32m-> 2530\u001b[1;33m                 \u001b[0mobj\u001b[0m \u001b[1;33m=\u001b[0m \u001b[0mobj\u001b[0m\u001b[1;33m.\u001b[0m\u001b[0m_drop_axis\u001b[0m\u001b[1;33m(\u001b[0m\u001b[0mlabels\u001b[0m\u001b[1;33m,\u001b[0m \u001b[0maxis\u001b[0m\u001b[1;33m,\u001b[0m \u001b[0mlevel\u001b[0m\u001b[1;33m=\u001b[0m\u001b[0mlevel\u001b[0m\u001b[1;33m,\u001b[0m \u001b[0merrors\u001b[0m\u001b[1;33m=\u001b[0m\u001b[0merrors\u001b[0m\u001b[1;33m)\u001b[0m\u001b[1;33m\u001b[0m\u001b[0m\n\u001b[0m\u001b[0;32m   2531\u001b[0m \u001b[1;33m\u001b[0m\u001b[0m\n\u001b[0;32m   2532\u001b[0m         \u001b[1;32mif\u001b[0m \u001b[0minplace\u001b[0m\u001b[1;33m:\u001b[0m\u001b[1;33m\u001b[0m\u001b[0m\n",
      "\u001b[1;32m/dataquest/system/env/python3/lib/python3.4/site-packages/pandas/core/generic.py\u001b[0m in \u001b[0;36m_drop_axis\u001b[1;34m(self, labels, axis, level, errors)\u001b[0m\n\u001b[0;32m   2560\u001b[0m                 \u001b[0mnew_axis\u001b[0m \u001b[1;33m=\u001b[0m \u001b[0maxis\u001b[0m\u001b[1;33m.\u001b[0m\u001b[0mdrop\u001b[0m\u001b[1;33m(\u001b[0m\u001b[0mlabels\u001b[0m\u001b[1;33m,\u001b[0m \u001b[0mlevel\u001b[0m\u001b[1;33m=\u001b[0m\u001b[0mlevel\u001b[0m\u001b[1;33m,\u001b[0m \u001b[0merrors\u001b[0m\u001b[1;33m=\u001b[0m\u001b[0merrors\u001b[0m\u001b[1;33m)\u001b[0m\u001b[1;33m\u001b[0m\u001b[0m\n\u001b[0;32m   2561\u001b[0m             \u001b[1;32melse\u001b[0m\u001b[1;33m:\u001b[0m\u001b[1;33m\u001b[0m\u001b[0m\n\u001b[1;32m-> 2562\u001b[1;33m                 \u001b[0mnew_axis\u001b[0m \u001b[1;33m=\u001b[0m \u001b[0maxis\u001b[0m\u001b[1;33m.\u001b[0m\u001b[0mdrop\u001b[0m\u001b[1;33m(\u001b[0m\u001b[0mlabels\u001b[0m\u001b[1;33m,\u001b[0m \u001b[0merrors\u001b[0m\u001b[1;33m=\u001b[0m\u001b[0merrors\u001b[0m\u001b[1;33m)\u001b[0m\u001b[1;33m\u001b[0m\u001b[0m\n\u001b[0m\u001b[0;32m   2563\u001b[0m             \u001b[0mdropped\u001b[0m \u001b[1;33m=\u001b[0m \u001b[0mself\u001b[0m\u001b[1;33m.\u001b[0m\u001b[0mreindex\u001b[0m\u001b[1;33m(\u001b[0m\u001b[1;33m**\u001b[0m\u001b[1;33m{\u001b[0m\u001b[0maxis_name\u001b[0m\u001b[1;33m:\u001b[0m \u001b[0mnew_axis\u001b[0m\u001b[1;33m}\u001b[0m\u001b[1;33m)\u001b[0m\u001b[1;33m\u001b[0m\u001b[0m\n\u001b[0;32m   2564\u001b[0m             \u001b[1;32mtry\u001b[0m\u001b[1;33m:\u001b[0m\u001b[1;33m\u001b[0m\u001b[0m\n",
      "\u001b[1;32m/dataquest/system/env/python3/lib/python3.4/site-packages/pandas/core/indexes/base.py\u001b[0m in \u001b[0;36mdrop\u001b[1;34m(self, labels, errors)\u001b[0m\n\u001b[0;32m   3742\u001b[0m             \u001b[1;32mif\u001b[0m \u001b[0merrors\u001b[0m \u001b[1;33m!=\u001b[0m \u001b[1;34m'ignore'\u001b[0m\u001b[1;33m:\u001b[0m\u001b[1;33m\u001b[0m\u001b[0m\n\u001b[0;32m   3743\u001b[0m                 raise ValueError('labels %s not contained in axis' %\n\u001b[1;32m-> 3744\u001b[1;33m                                  labels[mask])\n\u001b[0m\u001b[0;32m   3745\u001b[0m             \u001b[0mindexer\u001b[0m \u001b[1;33m=\u001b[0m \u001b[0mindexer\u001b[0m\u001b[1;33m[\u001b[0m\u001b[1;33m~\u001b[0m\u001b[0mmask\u001b[0m\u001b[1;33m]\u001b[0m\u001b[1;33m\u001b[0m\u001b[0m\n\u001b[0;32m   3746\u001b[0m         \u001b[1;32mreturn\u001b[0m \u001b[0mself\u001b[0m\u001b[1;33m.\u001b[0m\u001b[0mdelete\u001b[0m\u001b[1;33m(\u001b[0m\u001b[0mindexer\u001b[0m\u001b[1;33m)\u001b[0m\u001b[1;33m\u001b[0m\u001b[0m\n",
      "\u001b[1;31mValueError\u001b[0m: labels [1728 1755] not contained in axis"
     ]
    }
   ],
   "source": [
    "\n",
    "only_4 = only_4.drop([1728,1755]) "
   ]
  },
  {
   "cell_type": "code",
   "execution_count": 29,
   "metadata": {
    "collapsed": false
   },
   "outputs": [
    {
     "data": {
      "text/html": [
       "<div>\n",
       "<style scoped>\n",
       "    .dataframe tbody tr th:only-of-type {\n",
       "        vertical-align: middle;\n",
       "    }\n",
       "\n",
       "    .dataframe tbody tr th {\n",
       "        vertical-align: top;\n",
       "    }\n",
       "\n",
       "    .dataframe thead th {\n",
       "        text-align: right;\n",
       "    }\n",
       "</style>\n",
       "<table border=\"1\" class=\"dataframe\">\n",
       "  <thead>\n",
       "    <tr style=\"text-align: right;\">\n",
       "      <th></th>\n",
       "      <th>Age</th>\n",
       "      <th>AttendedBootcamp</th>\n",
       "      <th>BootcampFinish</th>\n",
       "      <th>BootcampLoanYesNo</th>\n",
       "      <th>BootcampName</th>\n",
       "      <th>BootcampRecommend</th>\n",
       "      <th>ChildrenNumber</th>\n",
       "      <th>CityPopulation</th>\n",
       "      <th>CodeEventConferences</th>\n",
       "      <th>CodeEventDjangoGirls</th>\n",
       "      <th>...</th>\n",
       "      <th>YouTubeFunFunFunction</th>\n",
       "      <th>YouTubeGoogleDev</th>\n",
       "      <th>YouTubeLearnCode</th>\n",
       "      <th>YouTubeLevelUpTuts</th>\n",
       "      <th>YouTubeMIT</th>\n",
       "      <th>YouTubeMozillaHacks</th>\n",
       "      <th>YouTubeOther</th>\n",
       "      <th>YouTubeSimplilearn</th>\n",
       "      <th>YouTubeTheNewBoston</th>\n",
       "      <th>money_per_month</th>\n",
       "    </tr>\n",
       "  </thead>\n",
       "  <tbody>\n",
       "    <tr>\n",
       "      <th>718</th>\n",
       "      <td>26.0</td>\n",
       "      <td>1.0</td>\n",
       "      <td>0.0</td>\n",
       "      <td>0.0</td>\n",
       "      <td>The Coding Boot Camp at UCLA Extension</td>\n",
       "      <td>1.0</td>\n",
       "      <td>NaN</td>\n",
       "      <td>more than 1 million</td>\n",
       "      <td>1.0</td>\n",
       "      <td>NaN</td>\n",
       "      <td>...</td>\n",
       "      <td>NaN</td>\n",
       "      <td>NaN</td>\n",
       "      <td>NaN</td>\n",
       "      <td>NaN</td>\n",
       "      <td>NaN</td>\n",
       "      <td>NaN</td>\n",
       "      <td>NaN</td>\n",
       "      <td>NaN</td>\n",
       "      <td>NaN</td>\n",
       "      <td>8000.0</td>\n",
       "    </tr>\n",
       "    <tr>\n",
       "      <th>1222</th>\n",
       "      <td>32.0</td>\n",
       "      <td>1.0</td>\n",
       "      <td>0.0</td>\n",
       "      <td>0.0</td>\n",
       "      <td>The Iron Yard</td>\n",
       "      <td>1.0</td>\n",
       "      <td>NaN</td>\n",
       "      <td>between 100,000 and 1 million</td>\n",
       "      <td>NaN</td>\n",
       "      <td>NaN</td>\n",
       "      <td>...</td>\n",
       "      <td>NaN</td>\n",
       "      <td>NaN</td>\n",
       "      <td>1.0</td>\n",
       "      <td>NaN</td>\n",
       "      <td>NaN</td>\n",
       "      <td>NaN</td>\n",
       "      <td>NaN</td>\n",
       "      <td>NaN</td>\n",
       "      <td>NaN</td>\n",
       "      <td>6500.0</td>\n",
       "    </tr>\n",
       "  </tbody>\n",
       "</table>\n",
       "<p>2 rows × 137 columns</p>\n",
       "</div>"
      ],
      "text/plain": [
       "       Age  AttendedBootcamp  BootcampFinish  BootcampLoanYesNo  \\\n",
       "718   26.0               1.0             0.0                0.0   \n",
       "1222  32.0               1.0             0.0                0.0   \n",
       "\n",
       "                                BootcampName  BootcampRecommend  \\\n",
       "718   The Coding Boot Camp at UCLA Extension                1.0   \n",
       "1222                           The Iron Yard                1.0   \n",
       "\n",
       "      ChildrenNumber                 CityPopulation  CodeEventConferences  \\\n",
       "718              NaN            more than 1 million                   1.0   \n",
       "1222             NaN  between 100,000 and 1 million                   NaN   \n",
       "\n",
       "      CodeEventDjangoGirls       ...         YouTubeFunFunFunction  \\\n",
       "718                    NaN       ...                           NaN   \n",
       "1222                   NaN       ...                           NaN   \n",
       "\n",
       "      YouTubeGoogleDev  YouTubeLearnCode  YouTubeLevelUpTuts  YouTubeMIT  \\\n",
       "718                NaN               NaN                 NaN         NaN   \n",
       "1222               NaN               1.0                 NaN         NaN   \n",
       "\n",
       "      YouTubeMozillaHacks  YouTubeOther  YouTubeSimplilearn  \\\n",
       "718                   NaN           NaN                 NaN   \n",
       "1222                  NaN           NaN                 NaN   \n",
       "\n",
       "      YouTubeTheNewBoston  money_per_month  \n",
       "718                   NaN           8000.0  \n",
       "1222                  NaN           6500.0  \n",
       "\n",
       "[2 rows x 137 columns]"
      ]
     },
     "execution_count": 29,
     "metadata": {},
     "output_type": "execute_result"
    }
   ],
   "source": [
    "only_4[\n",
    "    (only_4['CountryLive'] == 'United States of America') & \n",
    "    (only_4['money_per_month'] > 6000)]"
   ]
  },
  {
   "cell_type": "code",
   "execution_count": 30,
   "metadata": {
    "collapsed": true
   },
   "outputs": [],
   "source": [
    "only_4 = only_4.drop([718,1222])"
   ]
  },
  {
   "cell_type": "code",
   "execution_count": 31,
   "metadata": {
    "collapsed": false
   },
   "outputs": [
    {
     "data": {
      "text/plain": [
       "CountryLive\n",
       "Canada                       35.808258\n",
       "India                        29.529439\n",
       "United Kingdom               18.921319\n",
       "United States of America    152.427957\n",
       "Name: money_per_month, dtype: float64"
      ]
     },
     "execution_count": 31,
     "metadata": {},
     "output_type": "execute_result"
    }
   ],
   "source": [
    "only_4.groupby('CountryLive').mean()['money_per_month']\n"
   ]
  },
  {
   "cell_type": "code",
   "execution_count": 32,
   "metadata": {
    "collapsed": false
   },
   "outputs": [
    {
     "name": "stderr",
     "output_type": "stream",
     "text": [
      "/dataquest/system/env/python3/lib/python3.4/site-packages/seaborn/categorical.py:454: FutureWarning: remove_na is deprecated and is a private function. Do not use.\n",
      "  box_data = remove_na(group_data)\n"
     ]
    },
    {
     "data": {
      "text/plain": [
       "<matplotlib.axes._subplots.AxesSubplot at 0x7f7285968a58>"
      ]
     },
     "execution_count": 32,
     "metadata": {},
     "output_type": "execute_result"
    },
    {
     "data": {
      "image/png": "[encoded data removed]",
      "text/plain": [
       "<matplotlib.figure.Figure at 0x7f72859a2e10>"
      ]
     },
     "metadata": {},
     "output_type": "display_data"
    }
   ],
   "source": [
    "sns.boxplot(y = 'money_per_month', x = 'CountryLive',\n",
    "            data = only_4)"
   ]
  },
  {
   "cell_type": "code",
   "execution_count": 33,
   "metadata": {
    "collapsed": false
   },
   "outputs": [
    {
     "name": "stdout",
     "output_type": "stream",
     "text": [
      "India: 0.23015037592003365\n",
      "Canada: 0.21909241155098425\n",
      "United Kingdom: 0.8967313005116765\n"
     ]
    }
   ],
   "source": [
    "for country in ['India', 'Canada', 'United Kingdom']:\n",
    "    one_country = only_4[only_4['CountryLive'] == country]\n",
    "    mean = one_country['money_per_month'].mean()\n",
    "    st_dev = one_country['money_per_month'].std(ddof = 1)\n",
    "    z = (59 - mean) / st_dev\n",
    "    print(country + ': ' + str(z))"
   ]
  },
  {
   "cell_type": "code",
   "execution_count": 34,
   "metadata": {
    "collapsed": false
   },
   "outputs": [
    {
     "data": {
      "text/plain": [
       "United States of America    579\n",
       "India                        90\n",
       "United Kingdom               58\n",
       "Canada                       45\n",
       "Name: CountryLive, dtype: int64"
      ]
     },
     "execution_count": 34,
     "metadata": {},
     "output_type": "execute_result"
    }
   ],
   "source": [
    "only_4['CountryLive'].value_counts()\n"
   ]
  },
  {
   "cell_type": "code",
   "execution_count": null,
   "metadata": {
    "collapsed": true
   },
   "outputs": [],
   "source": []
  }
 ],
 "metadata": {
  "kernelspec": {
   "display_name": "Python 3",
   "language": "python",
   "name": "python3"
  },
  "language_info": {
   "codemirror_mode": {
    "name": "ipython",
    "version": 3
   },
   "file_extension": ".py",
   "mimetype": "text/x-python",
   "name": "python",
   "nbconvert_exporter": "python",
   "pygments_lexer": "ipython3",
   "version": "3.4.3"
  }
 },
 "nbformat": 4,
 "nbformat_minor": 2
}
